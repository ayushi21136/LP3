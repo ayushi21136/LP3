{
 "cells": [
  {
   "cell_type": "code",
   "execution_count": 2,
   "id": "def20c8e-a005-4f7d-bd15-b47cab4b0fb2",
   "metadata": {},
   "outputs": [
    {
     "name": "stdout",
     "output_type": "stream",
     "text": [
      "Given N = 20\n",
      "1000 runs\n",
      "Fibonacci non-recursive: 6765 \tTime: 0.00367 O(n)\tSpace: O(1)\n",
      "Fibonacci recursive:\t 6765 \tTime: 6.19273 O(2^n)\tSpace: O(n)\n"
     ]
    }
   ],
   "source": [
    "import timeit\n",
    "\n",
    "def fibonacci(n):\n",
    "    \"\"\"Non-recursive Fibonacci function\"\"\"\n",
    "    for i in range(2, n + 1):\n",
    "        fib_list[i] = fib_list[i - 1] + fib_list[i - 2]\n",
    "    return fib_list[n]\n",
    "\n",
    "def fibonacci_recursive(n):\n",
    "    \"\"\"Recursive Fibonacci function\"\"\"\n",
    "    if n == 0:\n",
    "        return 0\n",
    "    if n == 1:\n",
    "        return 1\n",
    "    fib_recur_list[n] = fibonacci_recursive(n - 1) + fibonacci_recursive(n - 2)\n",
    "    return fib_recur_list[n]\n",
    "\n",
    "N = 20\n",
    "RUNS = 1000\n",
    "print(f\"Given N = {N}\\n{RUNS} runs\")\n",
    "\n",
    "# Initializing the list for the non-recursive approach\n",
    "fib_list = [0] * (N + 1)\n",
    "fib_list[0] = 0\n",
    "fib_list[1] = 1\n",
    "print(\n",
    "    \"Fibonacci non-recursive:\",\n",
    "    fibonacci(N),\n",
    "    \"\\tTime:\",\n",
    "    f'{timeit.timeit(\"fibonacci(N)\", setup=\"from __main__ import fibonacci; N = 20\", number=RUNS):.5f}',\n",
    "    \"O(n)\\tSpace: O(1)\",\n",
    ")\n",
    "\n",
    "# Initializing the list for the recursive approach\n",
    "fib_recur_list = [0] * (N + 1)\n",
    "fib_recur_list[0] = 0\n",
    "fib_recur_list[1] = 1\n",
    "print(\n",
    "    \"Fibonacci recursive:\\t\",\n",
    "    fibonacci_recursive(N),\n",
    "    \"\\tTime:\",\n",
    "    f'{timeit.timeit(\"fibonacci_recursive(N)\", setup=\"from __main__ import fibonacci_recursive; N = 20\", number=RUNS):.5f}',\n",
    "    \"O(2^n)\\tSpace: O(n)\",\n",
    ")\n"
   ]
  },
  {
   "cell_type": "code",
   "execution_count": null,
   "id": "7e01c273-364c-4e97-a5f9-4afb36dd0799",
   "metadata": {},
   "outputs": [],
   "source": []
  }
 ],
 "metadata": {
  "kernelspec": {
   "display_name": "Python 3 (ipykernel)",
   "language": "python",
   "name": "python3"
  },
  "language_info": {
   "codemirror_mode": {
    "name": "ipython",
    "version": 3
   },
   "file_extension": ".py",
   "mimetype": "text/x-python",
   "name": "python",
   "nbconvert_exporter": "python",
   "pygments_lexer": "ipython3",
   "version": "3.11.5"
  }
 },
 "nbformat": 4,
 "nbformat_minor": 5
}
