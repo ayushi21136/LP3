{
 "cells": [
  {
   "cell_type": "code",
   "execution_count": 2,
   "id": "3f474dfd-c548-4d07-b260-c852a5d1aa99",
   "metadata": {},
   "outputs": [
    {
     "name": "stdin",
     "output_type": "stream",
     "text": [
      "Enter the number of elements in the array:  5\n",
      "Enter element 1:  10\n",
      "Enter element 2:  90\n",
      "Enter element 3:  60\n",
      "Enter element 4:  40\n",
      "Enter element 5:  70\n"
     ]
    },
    {
     "name": "stdout",
     "output_type": "stream",
     "text": [
      "Sorted array: [10, 40, 60, 70, 90]\n",
      "Deterministic QuickSort Time: 0.0 seconds\n"
     ]
    }
   ],
   "source": [
    " import time\n",
    " # Function to partition the array\n",
    " def partition(arr, low, high):\n",
    "    pivot = arr[high]  # Last element as pivot\n",
    "    i = low - 1\n",
    "    for j in range(low, high):\n",
    "        if arr[j] <= pivot:\n",
    "            i += 1\n",
    "            arr[i], arr[j] = arr[j], arr[i]\n",
    "    arr[i + 1], arr[high] = arr[high], arr[i + 1]\n",
    "    return i + 1\n",
    " # Deterministic QuickSort function\n",
    " def quicksort_deterministic(arr, low, high):\n",
    "    if low < high:\n",
    "        pi = partition(arr, low, high)\n",
    "        quicksort_deterministic(arr, low, pi - 1)\n",
    "        quicksort_deterministic(arr, pi + 1, high)\n",
    " # Main execution\n",
    " if __name__ == \"__main__\":\n",
    "    # Step-by-step input process:\n",
    "    # Step 1: Enter the number of elements you want to sort\n",
    "    n = int(input(\"Enter the number of elements in the array: \"))\n",
    "    # Step 2: Enter the elements of the array\n",
    "    arr = []\n",
    "    for i in range(n):\n",
    "        element = int(input(f\"Enter element {i + 1}: \"))\n",
    "        arr.append(element)\n",
    "    # Step 3: Call the quicksort function and measure time\n",
    "    start = time.time()\n",
    "    quicksort_deterministic(arr, 0, len(arr) - 1)\n",
    "    end = time.time()\n",
    "    # Step 4: Print the sorted array and the time taken\n",
    "    print(f\"Sorted array: {arr}\")\n",
    "    print(f\"Deterministic QuickSort Time: {end - start} seconds\")"
   ]
  },
  {
   "cell_type": "code",
   "execution_count": null,
   "id": "4855e73d-be4c-4757-89ba-5d24940df280",
   "metadata": {},
   "outputs": [],
   "source": []
  }
 ],
 "metadata": {
  "kernelspec": {
   "display_name": "Python 3 (ipykernel)",
   "language": "python",
   "name": "python3"
  },
  "language_info": {
   "codemirror_mode": {
    "name": "ipython",
    "version": 3
   },
   "file_extension": ".py",
   "mimetype": "text/x-python",
   "name": "python",
   "nbconvert_exporter": "python",
   "pygments_lexer": "ipython3",
   "version": "3.11.5"
  }
 },
 "nbformat": 4,
 "nbformat_minor": 5
}
