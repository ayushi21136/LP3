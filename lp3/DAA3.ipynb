{
 "cells": [
  {
   "cell_type": "code",
   "execution_count": 2,
   "id": "dbc07cca-1435-4db9-867c-9e7f762ec3a8",
   "metadata": {},
   "outputs": [
    {
     "name": "stdout",
     "output_type": "stream",
     "text": [
      "Maximum value in Knapsack = 240.0\n"
     ]
    }
   ],
   "source": [
    "class ItemValue:\n",
    "    \"\"\"Item Value DataClass\"\"\"\n",
    "    def __init__(self, wt_, val_, ind_):\n",
    "        self.wt = wt_\n",
    "        self.val = val_\n",
    "        self.ind = ind_\n",
    "        self.cost = val_ / wt_\n",
    "\n",
    "    def __lt__(self, other):\n",
    "        return self.cost < other.cost\n",
    "\n",
    "\n",
    "def fractionalKnapSack(wt, val, capacity):\n",
    "    \"\"\"Function to get maximum value\"\"\"\n",
    "    iVal = [ItemValue(wt[i], val[i], i) for i in range(len(wt))]\n",
    "\n",
    "    # Sorting items by cost (value per weight) in descending order\n",
    "    iVal.sort(reverse=True)\n",
    "\n",
    "    totalValue = 0\n",
    "    for i in iVal:\n",
    "        curWt = i.wt\n",
    "        curVal = i.val\n",
    "        if capacity - curWt >= 0:\n",
    "            # If the entire item can be taken\n",
    "            capacity -= curWt\n",
    "            totalValue += curVal\n",
    "        else:\n",
    "            # If only a fraction of the item can be taken\n",
    "            fraction = capacity / curWt\n",
    "            totalValue += curVal * fraction\n",
    "            break\n",
    "\n",
    "    return totalValue\n",
    "\n",
    "\n",
    "if __name__ == \"__main__\":\n",
    "    wt = [10, 40, 20, 30]\n",
    "    val = [60, 40, 100, 120]\n",
    "    capacity = 50\n",
    "\n",
    "    # Function call\n",
    "    maxValue = fractionalKnapSack(wt, val, capacity)\n",
    "    print(\"Maximum value in Knapsack =\", maxValue)\n"
   ]
  },
  {
   "cell_type": "code",
   "execution_count": null,
   "id": "dba5275d-1c73-4086-a724-3834dbc09f65",
   "metadata": {},
   "outputs": [],
   "source": []
  }
 ],
 "metadata": {
  "kernelspec": {
   "display_name": "Python 3 (ipykernel)",
   "language": "python",
   "name": "python3"
  },
  "language_info": {
   "codemirror_mode": {
    "name": "ipython",
    "version": 3
   },
   "file_extension": ".py",
   "mimetype": "text/x-python",
   "name": "python",
   "nbconvert_exporter": "python",
   "pygments_lexer": "ipython3",
   "version": "3.11.5"
  }
 },
 "nbformat": 4,
 "nbformat_minor": 5
}
