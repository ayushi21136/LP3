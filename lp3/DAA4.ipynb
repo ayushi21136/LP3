{
 "cells": [
  {
   "cell_type": "code",
   "execution_count": 1,
   "id": "644c1cd6-54de-4335-89eb-6f1e4b6e03dc",
   "metadata": {},
   "outputs": [
    {
     "name": "stdout",
     "output_type": "stream",
     "text": [
      "Maximum possible profit = 220\n"
     ]
    }
   ],
   "source": [
    "\n",
    "def knapsack_dp(W, wt, val, n):\n",
    "    \"\"\"A Dynamic Programming based solution for 0-1 Knapsack problem.\n",
    "    Returns the maximum value that can be put in a knapsack of capacity W.\"\"\"\n",
    "    \n",
    "    # Create a 2D array to store the maximum value for each capacity\n",
    "    K = [[0 for x in range(W + 1)] for x in range(n + 1)]\n",
    "\n",
    "    # Build the table K[][] in a bottom-up manner\n",
    "    for i in range(n + 1):\n",
    "        for w in range(W + 1):\n",
    "            if i == 0 or w == 0:\n",
    "                K[i][w] = 0\n",
    "            elif wt[i - 1] <= w:\n",
    "                K[i][w] = max(val[i - 1] + K[i - 1][w - wt[i - 1]], K[i - 1][w])\n",
    "            else:\n",
    "                K[i][w] = K[i - 1][w]\n",
    "\n",
    "    return K[n][W]\n",
    "\n",
    "\n",
    "# Input values\n",
    "val = [60, 100, 120]\n",
    "wt = [10, 20, 30]\n",
    "W = 50\n",
    "n = len(val)\n",
    "\n",
    "# Function call to find the maximum profit\n",
    "print(\"Maximum possible profit =\", knapsack_dp(W, wt, val, n))\n"
   ]
  },
  {
   "cell_type": "code",
   "execution_count": null,
   "id": "a94aad6d-4b2e-433e-b4a5-7adcd29153b0",
   "metadata": {},
   "outputs": [],
   "source": []
  }
 ],
 "metadata": {
  "kernelspec": {
   "display_name": "Python 3 (ipykernel)",
   "language": "python",
   "name": "python3"
  },
  "language_info": {
   "codemirror_mode": {
    "name": "ipython",
    "version": 3
   },
   "file_extension": ".py",
   "mimetype": "text/x-python",
   "name": "python",
   "nbconvert_exporter": "python",
   "pygments_lexer": "ipython3",
   "version": "3.11.5"
  }
 },
 "nbformat": 4,
 "nbformat_minor": 5
}
